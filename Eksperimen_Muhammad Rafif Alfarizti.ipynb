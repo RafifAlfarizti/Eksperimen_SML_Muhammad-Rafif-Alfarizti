{
  "cells": [
    {
      "cell_type": "markdown",
      "metadata": {
        "id": "kZLRMFl0JyyQ"
      },
      "source": [
        "# **1. Perkenalan Dataset**\n"
      ]
    },
    {
      "cell_type": "markdown",
      "metadata": {
        "id": "hssSDn-5n3HR"
      },
      "source": [
        "Tahap pertama, Anda harus mencari dan menggunakan dataset dengan ketentuan sebagai berikut:\n",
        "\n",
        "1. **Sumber Dataset**:  \n",
        "   Dataset dapat diperoleh dari berbagai sumber, seperti public repositories (*Kaggle*, *UCI ML Repository*, *Open Data*) atau data primer yang Anda kumpulkan sendiri.\n"
      ]
    },
    {
      "cell_type": "markdown",
      "metadata": {},
      "source": [
        "https://www.kaggle.com/datasets/fedesoriano/heart-failure-prediction"
      ]
    },
    {
      "cell_type": "markdown",
      "metadata": {
        "id": "fKADPWcFKlj3"
      },
      "source": [
        "# **2. Import Library**"
      ]
    },
    {
      "cell_type": "markdown",
      "metadata": {
        "id": "LgA3ERnVn84N"
      },
      "source": [
        "Pada tahap ini, Anda perlu mengimpor beberapa pustaka (library) Python yang dibutuhkan untuk analisis data dan pembangunan model machine learning atau deep learning."
      ]
    },
    {
      "cell_type": "code",
      "execution_count": 1,
      "metadata": {
        "id": "BlmvjLY9M4Yj"
      },
      "outputs": [],
      "source": [
        "# Data Manipulation & Analysis\n",
        "import pandas as pd\n",
        "import numpy as np\n",
        "\n",
        "# Visualization & EDA\n",
        "import matplotlib.pyplot as plt\n",
        "import seaborn as sns\n",
        "import missingno as msno\n",
        "\n",
        "# Preprocessing & Utilities\n",
        "from sklearn.model_selection import train_test_split\n",
        "from sklearn.preprocessing import StandardScaler, OneHotEncoder\n",
        "from sklearn.compose import ColumnTransformer\n",
        "from sklearn.pipeline import Pipeline\n",
        "from sklearn.impute import SimpleImputer\n",
        "\n",
        "# Machine Learning Models\n",
        "from sklearn.linear_model import LogisticRegression\n",
        "from sklearn.ensemble import RandomForestClassifier\n",
        "from sklearn.metrics import classification_report, confusion_matrix, accuracy_score, roc_auc_score\n",
        "\n",
        "# Deep Learning (Optional for Advanced Users)\n",
        "import tensorflow as tf\n",
        "from tensorflow.keras.models import Sequential\n",
        "from tensorflow.keras.layers import Dense, Dropout\n",
        "\n",
        "# MLflow for Experiment Tracking\n",
        "import mlflow\n",
        "import mlflow.sklearn\n",
        "\n",
        "# DVC (Data Version Control)\n",
        "# Note: Used via CLI, not directly imported in Python.\n",
        "\n",
        "# Deployment (FastAPI for serving)\n",
        "from fastapi import FastAPI\n",
        "import uvicorn\n",
        "import joblib\n",
        "import json\n",
        "\n",
        "# Monitoring Tools (Prometheus Exporter)\n",
        "from prometheus_client import start_http_server, Summary, Gauge\n",
        "import random\n",
        "import time\n",
        "\n",
        "# OS and Utilities\n",
        "import os\n",
        "import sys\n",
        "import warnings\n",
        "warnings.filterwarnings('ignore')\n"
      ]
    },
    {
      "cell_type": "markdown",
      "metadata": {
        "id": "f3YIEnAFKrKL"
      },
      "source": [
        "# **3. Memuat Dataset**"
      ]
    },
    {
      "cell_type": "markdown",
      "metadata": {
        "id": "Ey3ItwTen_7E"
      },
      "source": [
        "Pada tahap ini, Anda perlu memuat dataset ke dalam notebook. Jika dataset dalam format CSV, Anda bisa menggunakan pustaka pandas untuk membacanya. Pastikan untuk mengecek beberapa baris awal dataset untuk memahami strukturnya dan memastikan data telah dimuat dengan benar.\n",
        "\n",
        "Jika dataset berada di Google Drive, pastikan Anda menghubungkan Google Drive ke Colab terlebih dahulu. Setelah dataset berhasil dimuat, langkah berikutnya adalah memeriksa kesesuaian data dan siap untuk dianalisis lebih lanjut.\n",
        "\n",
        "Jika dataset berupa unstructured data, silakan sesuaikan dengan format seperti kelas Machine Learning Pengembangan atau Machine Learning Terapan"
      ]
    },
    {
      "cell_type": "code",
      "execution_count": 2,
      "metadata": {},
      "outputs": [
        {
          "data": {
            "text/html": [
              "<div>\n",
              "<style scoped>\n",
              "    .dataframe tbody tr th:only-of-type {\n",
              "        vertical-align: middle;\n",
              "    }\n",
              "\n",
              "    .dataframe tbody tr th {\n",
              "        vertical-align: top;\n",
              "    }\n",
              "\n",
              "    .dataframe thead th {\n",
              "        text-align: right;\n",
              "    }\n",
              "</style>\n",
              "<table border=\"1\" class=\"dataframe\">\n",
              "  <thead>\n",
              "    <tr style=\"text-align: right;\">\n",
              "      <th></th>\n",
              "      <th>Age</th>\n",
              "      <th>Sex</th>\n",
              "      <th>ChestPainType</th>\n",
              "      <th>RestingBP</th>\n",
              "      <th>Cholesterol</th>\n",
              "      <th>FastingBS</th>\n",
              "      <th>RestingECG</th>\n",
              "      <th>MaxHR</th>\n",
              "      <th>ExerciseAngina</th>\n",
              "      <th>Oldpeak</th>\n",
              "      <th>ST_Slope</th>\n",
              "      <th>HeartDisease</th>\n",
              "    </tr>\n",
              "  </thead>\n",
              "  <tbody>\n",
              "    <tr>\n",
              "      <th>0</th>\n",
              "      <td>40</td>\n",
              "      <td>M</td>\n",
              "      <td>ATA</td>\n",
              "      <td>140</td>\n",
              "      <td>289</td>\n",
              "      <td>0</td>\n",
              "      <td>Normal</td>\n",
              "      <td>172</td>\n",
              "      <td>N</td>\n",
              "      <td>0.0</td>\n",
              "      <td>Up</td>\n",
              "      <td>0</td>\n",
              "    </tr>\n",
              "    <tr>\n",
              "      <th>1</th>\n",
              "      <td>49</td>\n",
              "      <td>F</td>\n",
              "      <td>NAP</td>\n",
              "      <td>160</td>\n",
              "      <td>180</td>\n",
              "      <td>0</td>\n",
              "      <td>Normal</td>\n",
              "      <td>156</td>\n",
              "      <td>N</td>\n",
              "      <td>1.0</td>\n",
              "      <td>Flat</td>\n",
              "      <td>1</td>\n",
              "    </tr>\n",
              "    <tr>\n",
              "      <th>2</th>\n",
              "      <td>37</td>\n",
              "      <td>M</td>\n",
              "      <td>ATA</td>\n",
              "      <td>130</td>\n",
              "      <td>283</td>\n",
              "      <td>0</td>\n",
              "      <td>ST</td>\n",
              "      <td>98</td>\n",
              "      <td>N</td>\n",
              "      <td>0.0</td>\n",
              "      <td>Up</td>\n",
              "      <td>0</td>\n",
              "    </tr>\n",
              "    <tr>\n",
              "      <th>3</th>\n",
              "      <td>48</td>\n",
              "      <td>F</td>\n",
              "      <td>ASY</td>\n",
              "      <td>138</td>\n",
              "      <td>214</td>\n",
              "      <td>0</td>\n",
              "      <td>Normal</td>\n",
              "      <td>108</td>\n",
              "      <td>Y</td>\n",
              "      <td>1.5</td>\n",
              "      <td>Flat</td>\n",
              "      <td>1</td>\n",
              "    </tr>\n",
              "    <tr>\n",
              "      <th>4</th>\n",
              "      <td>54</td>\n",
              "      <td>M</td>\n",
              "      <td>NAP</td>\n",
              "      <td>150</td>\n",
              "      <td>195</td>\n",
              "      <td>0</td>\n",
              "      <td>Normal</td>\n",
              "      <td>122</td>\n",
              "      <td>N</td>\n",
              "      <td>0.0</td>\n",
              "      <td>Up</td>\n",
              "      <td>0</td>\n",
              "    </tr>\n",
              "    <tr>\n",
              "      <th>...</th>\n",
              "      <td>...</td>\n",
              "      <td>...</td>\n",
              "      <td>...</td>\n",
              "      <td>...</td>\n",
              "      <td>...</td>\n",
              "      <td>...</td>\n",
              "      <td>...</td>\n",
              "      <td>...</td>\n",
              "      <td>...</td>\n",
              "      <td>...</td>\n",
              "      <td>...</td>\n",
              "      <td>...</td>\n",
              "    </tr>\n",
              "    <tr>\n",
              "      <th>913</th>\n",
              "      <td>45</td>\n",
              "      <td>M</td>\n",
              "      <td>TA</td>\n",
              "      <td>110</td>\n",
              "      <td>264</td>\n",
              "      <td>0</td>\n",
              "      <td>Normal</td>\n",
              "      <td>132</td>\n",
              "      <td>N</td>\n",
              "      <td>1.2</td>\n",
              "      <td>Flat</td>\n",
              "      <td>1</td>\n",
              "    </tr>\n",
              "    <tr>\n",
              "      <th>914</th>\n",
              "      <td>68</td>\n",
              "      <td>M</td>\n",
              "      <td>ASY</td>\n",
              "      <td>144</td>\n",
              "      <td>193</td>\n",
              "      <td>1</td>\n",
              "      <td>Normal</td>\n",
              "      <td>141</td>\n",
              "      <td>N</td>\n",
              "      <td>3.4</td>\n",
              "      <td>Flat</td>\n",
              "      <td>1</td>\n",
              "    </tr>\n",
              "    <tr>\n",
              "      <th>915</th>\n",
              "      <td>57</td>\n",
              "      <td>M</td>\n",
              "      <td>ASY</td>\n",
              "      <td>130</td>\n",
              "      <td>131</td>\n",
              "      <td>0</td>\n",
              "      <td>Normal</td>\n",
              "      <td>115</td>\n",
              "      <td>Y</td>\n",
              "      <td>1.2</td>\n",
              "      <td>Flat</td>\n",
              "      <td>1</td>\n",
              "    </tr>\n",
              "    <tr>\n",
              "      <th>916</th>\n",
              "      <td>57</td>\n",
              "      <td>F</td>\n",
              "      <td>ATA</td>\n",
              "      <td>130</td>\n",
              "      <td>236</td>\n",
              "      <td>0</td>\n",
              "      <td>LVH</td>\n",
              "      <td>174</td>\n",
              "      <td>N</td>\n",
              "      <td>0.0</td>\n",
              "      <td>Flat</td>\n",
              "      <td>1</td>\n",
              "    </tr>\n",
              "    <tr>\n",
              "      <th>917</th>\n",
              "      <td>38</td>\n",
              "      <td>M</td>\n",
              "      <td>NAP</td>\n",
              "      <td>138</td>\n",
              "      <td>175</td>\n",
              "      <td>0</td>\n",
              "      <td>Normal</td>\n",
              "      <td>173</td>\n",
              "      <td>N</td>\n",
              "      <td>0.0</td>\n",
              "      <td>Up</td>\n",
              "      <td>0</td>\n",
              "    </tr>\n",
              "  </tbody>\n",
              "</table>\n",
              "<p>918 rows × 12 columns</p>\n",
              "</div>"
            ],
            "text/plain": [
              "     Age Sex ChestPainType  RestingBP  Cholesterol  FastingBS RestingECG  \\\n",
              "0     40   M           ATA        140          289          0     Normal   \n",
              "1     49   F           NAP        160          180          0     Normal   \n",
              "2     37   M           ATA        130          283          0         ST   \n",
              "3     48   F           ASY        138          214          0     Normal   \n",
              "4     54   M           NAP        150          195          0     Normal   \n",
              "..   ...  ..           ...        ...          ...        ...        ...   \n",
              "913   45   M            TA        110          264          0     Normal   \n",
              "914   68   M           ASY        144          193          1     Normal   \n",
              "915   57   M           ASY        130          131          0     Normal   \n",
              "916   57   F           ATA        130          236          0        LVH   \n",
              "917   38   M           NAP        138          175          0     Normal   \n",
              "\n",
              "     MaxHR ExerciseAngina  Oldpeak ST_Slope  HeartDisease  \n",
              "0      172              N      0.0       Up             0  \n",
              "1      156              N      1.0     Flat             1  \n",
              "2       98              N      0.0       Up             0  \n",
              "3      108              Y      1.5     Flat             1  \n",
              "4      122              N      0.0       Up             0  \n",
              "..     ...            ...      ...      ...           ...  \n",
              "913    132              N      1.2     Flat             1  \n",
              "914    141              N      3.4     Flat             1  \n",
              "915    115              Y      1.2     Flat             1  \n",
              "916    174              N      0.0     Flat             1  \n",
              "917    173              N      0.0       Up             0  \n",
              "\n",
              "[918 rows x 12 columns]"
            ]
          },
          "execution_count": 2,
          "metadata": {},
          "output_type": "execute_result"
        }
      ],
      "source": [
        "hr=pd.read_csv('heart.csv')\n",
        "hr"
      ]
    },
    {
      "cell_type": "code",
      "execution_count": 3,
      "metadata": {},
      "outputs": [
        {
          "name": "stdout",
          "output_type": "stream",
          "text": [
            "<class 'pandas.core.frame.DataFrame'>\n",
            "RangeIndex: 918 entries, 0 to 917\n",
            "Data columns (total 12 columns):\n",
            " #   Column          Non-Null Count  Dtype  \n",
            "---  ------          --------------  -----  \n",
            " 0   Age             918 non-null    int64  \n",
            " 1   Sex             918 non-null    object \n",
            " 2   ChestPainType   918 non-null    object \n",
            " 3   RestingBP       918 non-null    int64  \n",
            " 4   Cholesterol     918 non-null    int64  \n",
            " 5   FastingBS       918 non-null    int64  \n",
            " 6   RestingECG      918 non-null    object \n",
            " 7   MaxHR           918 non-null    int64  \n",
            " 8   ExerciseAngina  918 non-null    object \n",
            " 9   Oldpeak         918 non-null    float64\n",
            " 10  ST_Slope        918 non-null    object \n",
            " 11  HeartDisease    918 non-null    int64  \n",
            "dtypes: float64(1), int64(6), object(5)\n",
            "memory usage: 86.2+ KB\n"
          ]
        }
      ],
      "source": [
        "hr.info()"
      ]
    },
    {
      "cell_type": "markdown",
      "metadata": {},
      "source": [
        "## Mendefinisikan deskripsi kolom dataset dalam bentuk list of dicts"
      ]
    },
    {
      "cell_type": "code",
      "execution_count": 4,
      "metadata": {},
      "outputs": [
        {
          "data": {
            "text/html": [
              "<style type=\"text/css\">\n",
              "#T_10707_row0_col0, #T_10707_row0_col1, #T_10707_row0_col2, #T_10707_row0_col3, #T_10707_row1_col0, #T_10707_row1_col1, #T_10707_row1_col2, #T_10707_row1_col3, #T_10707_row2_col0, #T_10707_row2_col1, #T_10707_row2_col2, #T_10707_row2_col3, #T_10707_row3_col0, #T_10707_row3_col1, #T_10707_row3_col2, #T_10707_row3_col3, #T_10707_row4_col0, #T_10707_row4_col1, #T_10707_row4_col2, #T_10707_row4_col3, #T_10707_row5_col0, #T_10707_row5_col1, #T_10707_row5_col2, #T_10707_row5_col3, #T_10707_row6_col0, #T_10707_row6_col1, #T_10707_row6_col2, #T_10707_row6_col3, #T_10707_row7_col0, #T_10707_row7_col1, #T_10707_row7_col2, #T_10707_row7_col3, #T_10707_row8_col0, #T_10707_row8_col1, #T_10707_row8_col2, #T_10707_row8_col3, #T_10707_row9_col0, #T_10707_row9_col1, #T_10707_row9_col2, #T_10707_row9_col3, #T_10707_row10_col0, #T_10707_row10_col1, #T_10707_row10_col2, #T_10707_row10_col3, #T_10707_row11_col0, #T_10707_row11_col1, #T_10707_row11_col2, #T_10707_row11_col3 {\n",
              "  text-align: left;\n",
              "}\n",
              "</style>\n",
              "<table id=\"T_10707\">\n",
              "  <thead>\n",
              "    <tr>\n",
              "      <th class=\"blank level0\" >&nbsp;</th>\n",
              "      <th id=\"T_10707_level0_col0\" class=\"col_heading level0 col0\" >No</th>\n",
              "      <th id=\"T_10707_level0_col1\" class=\"col_heading level0 col1\" >Kolom</th>\n",
              "      <th id=\"T_10707_level0_col2\" class=\"col_heading level0 col2\" >Tipe Data</th>\n",
              "      <th id=\"T_10707_level0_col3\" class=\"col_heading level0 col3\" >Deskripsi</th>\n",
              "    </tr>\n",
              "  </thead>\n",
              "  <tbody>\n",
              "    <tr>\n",
              "      <th id=\"T_10707_level0_row0\" class=\"row_heading level0 row0\" >0</th>\n",
              "      <td id=\"T_10707_row0_col0\" class=\"data row0 col0\" >1</td>\n",
              "      <td id=\"T_10707_row0_col1\" class=\"data row0 col1\" >Age</td>\n",
              "      <td id=\"T_10707_row0_col2\" class=\"data row0 col2\" >int64</td>\n",
              "      <td id=\"T_10707_row0_col3\" class=\"data row0 col3\" >Usia pasien (dalam tahun)</td>\n",
              "    </tr>\n",
              "    <tr>\n",
              "      <th id=\"T_10707_level0_row1\" class=\"row_heading level0 row1\" >1</th>\n",
              "      <td id=\"T_10707_row1_col0\" class=\"data row1 col0\" >2</td>\n",
              "      <td id=\"T_10707_row1_col1\" class=\"data row1 col1\" >Sex</td>\n",
              "      <td id=\"T_10707_row1_col2\" class=\"data row1 col2\" >object</td>\n",
              "      <td id=\"T_10707_row1_col3\" class=\"data row1 col3\" >Jenis kelamin pasien (M, F)</td>\n",
              "    </tr>\n",
              "    <tr>\n",
              "      <th id=\"T_10707_level0_row2\" class=\"row_heading level0 row2\" >2</th>\n",
              "      <td id=\"T_10707_row2_col0\" class=\"data row2 col0\" >3</td>\n",
              "      <td id=\"T_10707_row2_col1\" class=\"data row2 col1\" >ChestPainType</td>\n",
              "      <td id=\"T_10707_row2_col2\" class=\"data row2 col2\" >object</td>\n",
              "      <td id=\"T_10707_row2_col3\" class=\"data row2 col3\" >Jenis nyeri dada (ATA, NAP, ASY, TA)</td>\n",
              "    </tr>\n",
              "    <tr>\n",
              "      <th id=\"T_10707_level0_row3\" class=\"row_heading level0 row3\" >3</th>\n",
              "      <td id=\"T_10707_row3_col0\" class=\"data row3 col0\" >4</td>\n",
              "      <td id=\"T_10707_row3_col1\" class=\"data row3 col1\" >RestingBP</td>\n",
              "      <td id=\"T_10707_row3_col2\" class=\"data row3 col2\" >int64</td>\n",
              "      <td id=\"T_10707_row3_col3\" class=\"data row3 col3\" >Tekanan darah saat istirahat (mm Hg)</td>\n",
              "    </tr>\n",
              "    <tr>\n",
              "      <th id=\"T_10707_level0_row4\" class=\"row_heading level0 row4\" >4</th>\n",
              "      <td id=\"T_10707_row4_col0\" class=\"data row4 col0\" >5</td>\n",
              "      <td id=\"T_10707_row4_col1\" class=\"data row4 col1\" >Cholesterol</td>\n",
              "      <td id=\"T_10707_row4_col2\" class=\"data row4 col2\" >int64</td>\n",
              "      <td id=\"T_10707_row4_col3\" class=\"data row4 col3\" >Kadar kolesterol darah (mg/dl)</td>\n",
              "    </tr>\n",
              "    <tr>\n",
              "      <th id=\"T_10707_level0_row5\" class=\"row_heading level0 row5\" >5</th>\n",
              "      <td id=\"T_10707_row5_col0\" class=\"data row5 col0\" >6</td>\n",
              "      <td id=\"T_10707_row5_col1\" class=\"data row5 col1\" >FastingBS</td>\n",
              "      <td id=\"T_10707_row5_col2\" class=\"data row5 col2\" >int64</td>\n",
              "      <td id=\"T_10707_row5_col3\" class=\"data row5 col3\" >Gula darah puasa >120 mg/dl (1 = ya, 0 = tidak)</td>\n",
              "    </tr>\n",
              "    <tr>\n",
              "      <th id=\"T_10707_level0_row6\" class=\"row_heading level0 row6\" >6</th>\n",
              "      <td id=\"T_10707_row6_col0\" class=\"data row6 col0\" >7</td>\n",
              "      <td id=\"T_10707_row6_col1\" class=\"data row6 col1\" >RestingECG</td>\n",
              "      <td id=\"T_10707_row6_col2\" class=\"data row6 col2\" >object</td>\n",
              "      <td id=\"T_10707_row6_col3\" class=\"data row6 col3\" >Hasil EKG saat istirahat (Normal, ST, LVH)</td>\n",
              "    </tr>\n",
              "    <tr>\n",
              "      <th id=\"T_10707_level0_row7\" class=\"row_heading level0 row7\" >7</th>\n",
              "      <td id=\"T_10707_row7_col0\" class=\"data row7 col0\" >8</td>\n",
              "      <td id=\"T_10707_row7_col1\" class=\"data row7 col1\" >MaxHR</td>\n",
              "      <td id=\"T_10707_row7_col2\" class=\"data row7 col2\" >int64</td>\n",
              "      <td id=\"T_10707_row7_col3\" class=\"data row7 col3\" >Denyut jantung maksimum saat uji latihan</td>\n",
              "    </tr>\n",
              "    <tr>\n",
              "      <th id=\"T_10707_level0_row8\" class=\"row_heading level0 row8\" >8</th>\n",
              "      <td id=\"T_10707_row8_col0\" class=\"data row8 col0\" >9</td>\n",
              "      <td id=\"T_10707_row8_col1\" class=\"data row8 col1\" >ExerciseAngina</td>\n",
              "      <td id=\"T_10707_row8_col2\" class=\"data row8 col2\" >object</td>\n",
              "      <td id=\"T_10707_row8_col3\" class=\"data row8 col3\" >Apakah mengalami angina saat latihan (Y, N)</td>\n",
              "    </tr>\n",
              "    <tr>\n",
              "      <th id=\"T_10707_level0_row9\" class=\"row_heading level0 row9\" >9</th>\n",
              "      <td id=\"T_10707_row9_col0\" class=\"data row9 col0\" >10</td>\n",
              "      <td id=\"T_10707_row9_col1\" class=\"data row9 col1\" >Oldpeak</td>\n",
              "      <td id=\"T_10707_row9_col2\" class=\"data row9 col2\" >float64</td>\n",
              "      <td id=\"T_10707_row9_col3\" class=\"data row9 col3\" >Penurunan segmen ST pada EKG (mm)</td>\n",
              "    </tr>\n",
              "    <tr>\n",
              "      <th id=\"T_10707_level0_row10\" class=\"row_heading level0 row10\" >10</th>\n",
              "      <td id=\"T_10707_row10_col0\" class=\"data row10 col0\" >11</td>\n",
              "      <td id=\"T_10707_row10_col1\" class=\"data row10 col1\" >ST_Slope</td>\n",
              "      <td id=\"T_10707_row10_col2\" class=\"data row10 col2\" >object</td>\n",
              "      <td id=\"T_10707_row10_col3\" class=\"data row10 col3\" >Kemiringan segmen ST pada EKG (Up, Flat, Down)</td>\n",
              "    </tr>\n",
              "    <tr>\n",
              "      <th id=\"T_10707_level0_row11\" class=\"row_heading level0 row11\" >11</th>\n",
              "      <td id=\"T_10707_row11_col0\" class=\"data row11 col0\" >12</td>\n",
              "      <td id=\"T_10707_row11_col1\" class=\"data row11 col1\" >HeartDisease</td>\n",
              "      <td id=\"T_10707_row11_col2\" class=\"data row11 col2\" >int64</td>\n",
              "      <td id=\"T_10707_row11_col3\" class=\"data row11 col3\" >Apakah pasien memiliki penyakit jantung (1 = ya, 0 = tidak)</td>\n",
              "    </tr>\n",
              "  </tbody>\n",
              "</table>\n"
            ],
            "text/plain": [
              "<pandas.io.formats.style.Styler at 0x21aaeec1790>"
            ]
          },
          "execution_count": 4,
          "metadata": {},
          "output_type": "execute_result"
        }
      ],
      "source": [
        "# Definisikan deskripsi kolom dataset dalam bentuk list of dicts\n",
        "column_descriptions = [\n",
        "    {\"No\": 1, \"Kolom\": \"Age\", \"Tipe Data\": \"int64\", \"Deskripsi\": \"Usia pasien (dalam tahun)\"},\n",
        "    {\"No\": 2, \"Kolom\": \"Sex\", \"Tipe Data\": \"object\", \"Deskripsi\": \"Jenis kelamin pasien (M, F)\"},\n",
        "    {\"No\": 3, \"Kolom\": \"ChestPainType\", \"Tipe Data\": \"object\", \"Deskripsi\": \"Jenis nyeri dada (ATA, NAP, ASY, TA)\"},\n",
        "    {\"No\": 4, \"Kolom\": \"RestingBP\", \"Tipe Data\": \"int64\", \"Deskripsi\": \"Tekanan darah saat istirahat (mm Hg)\"},\n",
        "    {\"No\": 5, \"Kolom\": \"Cholesterol\", \"Tipe Data\": \"int64\", \"Deskripsi\": \"Kadar kolesterol darah (mg/dl)\"},\n",
        "    {\"No\": 6, \"Kolom\": \"FastingBS\", \"Tipe Data\": \"int64\", \"Deskripsi\": \"Gula darah puasa >120 mg/dl (1 = ya, 0 = tidak)\"},\n",
        "    {\"No\": 7, \"Kolom\": \"RestingECG\", \"Tipe Data\": \"object\", \"Deskripsi\": \"Hasil EKG saat istirahat (Normal, ST, LVH)\"},\n",
        "    {\"No\": 8, \"Kolom\": \"MaxHR\", \"Tipe Data\": \"int64\", \"Deskripsi\": \"Denyut jantung maksimum saat uji latihan\"},\n",
        "    {\"No\": 9, \"Kolom\": \"ExerciseAngina\", \"Tipe Data\": \"object\", \"Deskripsi\": \"Apakah mengalami angina saat latihan (Y, N)\"},\n",
        "    {\"No\": 10, \"Kolom\": \"Oldpeak\", \"Tipe Data\": \"float64\", \"Deskripsi\": \"Penurunan segmen ST pada EKG (mm)\"},\n",
        "    {\"No\": 11, \"Kolom\": \"ST_Slope\", \"Tipe Data\": \"object\", \"Deskripsi\": \"Kemiringan segmen ST pada EKG (Up, Flat, Down)\"},\n",
        "    {\"No\": 12, \"Kolom\": \"HeartDisease\", \"Tipe Data\": \"int64\", \"Deskripsi\": \"Apakah pasien memiliki penyakit jantung (1 = ya, 0 = tidak)\"}\n",
        "]\n",
        "\n",
        "# Buat DataFrame dari deskripsi\n",
        "df_description = pd.DataFrame(column_descriptions)\n",
        "df_description.style.set_properties(**{'text-align': 'left'})  # Tampilkan tabel dengan alignment yang rapi\n",
        "\n"
      ]
    },
    {
      "cell_type": "markdown",
      "metadata": {
        "id": "bgZkbJLpK9UR"
      },
      "source": [
        "# **4. Exploratory Data Analysis (EDA)**\n",
        "\n",
        "Pada tahap ini, Anda akan melakukan **Exploratory Data Analysis (EDA)** untuk memahami karakteristik dataset.\n",
        "\n",
        "Tujuan dari EDA adalah untuk memperoleh wawasan awal yang mendalam mengenai data dan menentukan langkah selanjutnya dalam analisis atau pemodelan."
      ]
    },
    {
      "cell_type": "markdown",
      "metadata": {},
      "source": [
        "## a. Missing Values"
      ]
    },
    {
      "cell_type": "code",
      "execution_count": 5,
      "metadata": {
        "id": "dKeejtvxM6X1"
      },
      "outputs": [
        {
          "name": "stdout",
          "output_type": "stream",
          "text": [
            "Jumlah Missing Values per Kolom:\n",
            "Age               0\n",
            "Sex               0\n",
            "ChestPainType     0\n",
            "RestingBP         0\n",
            "Cholesterol       0\n",
            "FastingBS         0\n",
            "RestingECG        0\n",
            "MaxHR             0\n",
            "ExerciseAngina    0\n",
            "Oldpeak           0\n",
            "ST_Slope          0\n",
            "HeartDisease      0\n",
            "dtype: int64\n"
          ]
        }
      ],
      "source": [
        "# Cek Missing Values\n",
        "print(\"Jumlah Missing Values per Kolom:\")\n",
        "print(hr.isnull().sum())"
      ]
    },
    {
      "cell_type": "markdown",
      "metadata": {},
      "source": [
        "## b. Statistik Deskriptif"
      ]
    },
    {
      "cell_type": "code",
      "execution_count": 6,
      "metadata": {},
      "outputs": [
        {
          "data": {
            "text/html": [
              "<div>\n",
              "<style scoped>\n",
              "    .dataframe tbody tr th:only-of-type {\n",
              "        vertical-align: middle;\n",
              "    }\n",
              "\n",
              "    .dataframe tbody tr th {\n",
              "        vertical-align: top;\n",
              "    }\n",
              "\n",
              "    .dataframe thead th {\n",
              "        text-align: right;\n",
              "    }\n",
              "</style>\n",
              "<table border=\"1\" class=\"dataframe\">\n",
              "  <thead>\n",
              "    <tr style=\"text-align: right;\">\n",
              "      <th></th>\n",
              "      <th>Age</th>\n",
              "      <th>Sex</th>\n",
              "      <th>ChestPainType</th>\n",
              "      <th>RestingBP</th>\n",
              "      <th>Cholesterol</th>\n",
              "      <th>FastingBS</th>\n",
              "      <th>RestingECG</th>\n",
              "      <th>MaxHR</th>\n",
              "      <th>ExerciseAngina</th>\n",
              "      <th>Oldpeak</th>\n",
              "      <th>ST_Slope</th>\n",
              "      <th>HeartDisease</th>\n",
              "    </tr>\n",
              "  </thead>\n",
              "  <tbody>\n",
              "    <tr>\n",
              "      <th>count</th>\n",
              "      <td>918.000000</td>\n",
              "      <td>918</td>\n",
              "      <td>918</td>\n",
              "      <td>918.000000</td>\n",
              "      <td>918.000000</td>\n",
              "      <td>918.000000</td>\n",
              "      <td>918</td>\n",
              "      <td>918.000000</td>\n",
              "      <td>918</td>\n",
              "      <td>918.000000</td>\n",
              "      <td>918</td>\n",
              "      <td>918.000000</td>\n",
              "    </tr>\n",
              "    <tr>\n",
              "      <th>unique</th>\n",
              "      <td>NaN</td>\n",
              "      <td>2</td>\n",
              "      <td>4</td>\n",
              "      <td>NaN</td>\n",
              "      <td>NaN</td>\n",
              "      <td>NaN</td>\n",
              "      <td>3</td>\n",
              "      <td>NaN</td>\n",
              "      <td>2</td>\n",
              "      <td>NaN</td>\n",
              "      <td>3</td>\n",
              "      <td>NaN</td>\n",
              "    </tr>\n",
              "    <tr>\n",
              "      <th>top</th>\n",
              "      <td>NaN</td>\n",
              "      <td>M</td>\n",
              "      <td>ASY</td>\n",
              "      <td>NaN</td>\n",
              "      <td>NaN</td>\n",
              "      <td>NaN</td>\n",
              "      <td>Normal</td>\n",
              "      <td>NaN</td>\n",
              "      <td>N</td>\n",
              "      <td>NaN</td>\n",
              "      <td>Flat</td>\n",
              "      <td>NaN</td>\n",
              "    </tr>\n",
              "    <tr>\n",
              "      <th>freq</th>\n",
              "      <td>NaN</td>\n",
              "      <td>725</td>\n",
              "      <td>496</td>\n",
              "      <td>NaN</td>\n",
              "      <td>NaN</td>\n",
              "      <td>NaN</td>\n",
              "      <td>552</td>\n",
              "      <td>NaN</td>\n",
              "      <td>547</td>\n",
              "      <td>NaN</td>\n",
              "      <td>460</td>\n",
              "      <td>NaN</td>\n",
              "    </tr>\n",
              "    <tr>\n",
              "      <th>mean</th>\n",
              "      <td>53.510893</td>\n",
              "      <td>NaN</td>\n",
              "      <td>NaN</td>\n",
              "      <td>132.396514</td>\n",
              "      <td>198.799564</td>\n",
              "      <td>0.233115</td>\n",
              "      <td>NaN</td>\n",
              "      <td>136.809368</td>\n",
              "      <td>NaN</td>\n",
              "      <td>0.887364</td>\n",
              "      <td>NaN</td>\n",
              "      <td>0.553377</td>\n",
              "    </tr>\n",
              "    <tr>\n",
              "      <th>std</th>\n",
              "      <td>9.432617</td>\n",
              "      <td>NaN</td>\n",
              "      <td>NaN</td>\n",
              "      <td>18.514154</td>\n",
              "      <td>109.384145</td>\n",
              "      <td>0.423046</td>\n",
              "      <td>NaN</td>\n",
              "      <td>25.460334</td>\n",
              "      <td>NaN</td>\n",
              "      <td>1.066570</td>\n",
              "      <td>NaN</td>\n",
              "      <td>0.497414</td>\n",
              "    </tr>\n",
              "    <tr>\n",
              "      <th>min</th>\n",
              "      <td>28.000000</td>\n",
              "      <td>NaN</td>\n",
              "      <td>NaN</td>\n",
              "      <td>0.000000</td>\n",
              "      <td>0.000000</td>\n",
              "      <td>0.000000</td>\n",
              "      <td>NaN</td>\n",
              "      <td>60.000000</td>\n",
              "      <td>NaN</td>\n",
              "      <td>-2.600000</td>\n",
              "      <td>NaN</td>\n",
              "      <td>0.000000</td>\n",
              "    </tr>\n",
              "    <tr>\n",
              "      <th>25%</th>\n",
              "      <td>47.000000</td>\n",
              "      <td>NaN</td>\n",
              "      <td>NaN</td>\n",
              "      <td>120.000000</td>\n",
              "      <td>173.250000</td>\n",
              "      <td>0.000000</td>\n",
              "      <td>NaN</td>\n",
              "      <td>120.000000</td>\n",
              "      <td>NaN</td>\n",
              "      <td>0.000000</td>\n",
              "      <td>NaN</td>\n",
              "      <td>0.000000</td>\n",
              "    </tr>\n",
              "    <tr>\n",
              "      <th>50%</th>\n",
              "      <td>54.000000</td>\n",
              "      <td>NaN</td>\n",
              "      <td>NaN</td>\n",
              "      <td>130.000000</td>\n",
              "      <td>223.000000</td>\n",
              "      <td>0.000000</td>\n",
              "      <td>NaN</td>\n",
              "      <td>138.000000</td>\n",
              "      <td>NaN</td>\n",
              "      <td>0.600000</td>\n",
              "      <td>NaN</td>\n",
              "      <td>1.000000</td>\n",
              "    </tr>\n",
              "    <tr>\n",
              "      <th>75%</th>\n",
              "      <td>60.000000</td>\n",
              "      <td>NaN</td>\n",
              "      <td>NaN</td>\n",
              "      <td>140.000000</td>\n",
              "      <td>267.000000</td>\n",
              "      <td>0.000000</td>\n",
              "      <td>NaN</td>\n",
              "      <td>156.000000</td>\n",
              "      <td>NaN</td>\n",
              "      <td>1.500000</td>\n",
              "      <td>NaN</td>\n",
              "      <td>1.000000</td>\n",
              "    </tr>\n",
              "    <tr>\n",
              "      <th>max</th>\n",
              "      <td>77.000000</td>\n",
              "      <td>NaN</td>\n",
              "      <td>NaN</td>\n",
              "      <td>200.000000</td>\n",
              "      <td>603.000000</td>\n",
              "      <td>1.000000</td>\n",
              "      <td>NaN</td>\n",
              "      <td>202.000000</td>\n",
              "      <td>NaN</td>\n",
              "      <td>6.200000</td>\n",
              "      <td>NaN</td>\n",
              "      <td>1.000000</td>\n",
              "    </tr>\n",
              "  </tbody>\n",
              "</table>\n",
              "</div>"
            ],
            "text/plain": [
              "               Age  Sex ChestPainType   RestingBP  Cholesterol   FastingBS  \\\n",
              "count   918.000000  918           918  918.000000   918.000000  918.000000   \n",
              "unique         NaN    2             4         NaN          NaN         NaN   \n",
              "top            NaN    M           ASY         NaN          NaN         NaN   \n",
              "freq           NaN  725           496         NaN          NaN         NaN   \n",
              "mean     53.510893  NaN           NaN  132.396514   198.799564    0.233115   \n",
              "std       9.432617  NaN           NaN   18.514154   109.384145    0.423046   \n",
              "min      28.000000  NaN           NaN    0.000000     0.000000    0.000000   \n",
              "25%      47.000000  NaN           NaN  120.000000   173.250000    0.000000   \n",
              "50%      54.000000  NaN           NaN  130.000000   223.000000    0.000000   \n",
              "75%      60.000000  NaN           NaN  140.000000   267.000000    0.000000   \n",
              "max      77.000000  NaN           NaN  200.000000   603.000000    1.000000   \n",
              "\n",
              "       RestingECG       MaxHR ExerciseAngina     Oldpeak ST_Slope  \\\n",
              "count         918  918.000000            918  918.000000      918   \n",
              "unique          3         NaN              2         NaN        3   \n",
              "top        Normal         NaN              N         NaN     Flat   \n",
              "freq          552         NaN            547         NaN      460   \n",
              "mean          NaN  136.809368            NaN    0.887364      NaN   \n",
              "std           NaN   25.460334            NaN    1.066570      NaN   \n",
              "min           NaN   60.000000            NaN   -2.600000      NaN   \n",
              "25%           NaN  120.000000            NaN    0.000000      NaN   \n",
              "50%           NaN  138.000000            NaN    0.600000      NaN   \n",
              "75%           NaN  156.000000            NaN    1.500000      NaN   \n",
              "max           NaN  202.000000            NaN    6.200000      NaN   \n",
              "\n",
              "        HeartDisease  \n",
              "count     918.000000  \n",
              "unique           NaN  \n",
              "top              NaN  \n",
              "freq             NaN  \n",
              "mean        0.553377  \n",
              "std         0.497414  \n",
              "min         0.000000  \n",
              "25%         0.000000  \n",
              "50%         1.000000  \n",
              "75%         1.000000  \n",
              "max         1.000000  "
            ]
          },
          "execution_count": 6,
          "metadata": {},
          "output_type": "execute_result"
        }
      ],
      "source": [
        "hr.describe(include='all')"
      ]
    },
    {
      "cell_type": "markdown",
      "metadata": {},
      "source": [
        "## c. Distribusi Fitur"
      ]
    },
    {
      "cell_type": "code",
      "execution_count": 7,
      "metadata": {},
      "outputs": [
        {
          "data": {
            "image/png": "[encoded data removed]",
            "text/plain": [
              "<Figure size 1500x1000 with 9 Axes>"
            ]
          },
          "metadata": {},
          "output_type": "display_data"
        }
      ],
      "source": [
        "# Histogram Seluruh Kolom Numerik\n",
        "hr.hist(figsize=(15, 10), bins=20, color='skyblue', edgecolor='black')\n",
        "plt.suptitle(\"Distribusi Fitur Numerik\")\n",
        "plt.tight_layout()\n",
        "plt.show()"
      ]
    },
    {
      "cell_type": "markdown",
      "metadata": {},
      "source": [
        "## d. Korelasi"
      ]
    },
    {
      "cell_type": "code",
      "execution_count": 8,
      "metadata": {},
      "outputs": [
        {
          "data": {
            "image/png": "[encoded data removed]",
            "text/plain": [
              "<Figure size 1000x800 with 2 Axes>"
            ]
          },
          "metadata": {},
          "output_type": "display_data"
        }
      ],
      "source": [
        "# Korelasi Pearson antar fitur numerik\n",
        "plt.figure(figsize=(10, 8))\n",
        "numerik_hr = hr.select_dtypes(include=['number'])  # Ambil hanya kolom numerik\n",
        "sns.heatmap(numerik_hr.corr(), annot=True, cmap='coolwarm', fmt=\".2f\")\n",
        "plt.title(\"Matriks Korelasi Fitur Numerik\")\n",
        "plt.show()\n"
      ]
    },
    {
      "cell_type": "markdown",
      "metadata": {},
      "source": [
        "## e. Visualisasi target variable"
      ]
    },
    {
      "cell_type": "code",
      "execution_count": 9,
      "metadata": {},
      "outputs": [
        {
          "data": {
            "image/png": "[encoded data removed]",
            "text/plain": [
              "<Figure size 640x480 with 1 Axes>"
            ]
          },
          "metadata": {},
          "output_type": "display_data"
        }
      ],
      "source": [
        "# Visualisasi target variable\n",
        "if 'HeartDisease' in hr.columns:\n",
        "    sns.countplot(data=hr, x='HeartDisease')\n",
        "    plt.title(\"Distribusi Label Target\")\n",
        "    plt.show()"
      ]
    },
    {
      "cell_type": "markdown",
      "metadata": {
        "id": "cpgHfgnSK3ip"
      },
      "source": [
        "# **5. Data Preprocessing**"
      ]
    },
    {
      "cell_type": "markdown",
      "metadata": {
        "id": "COf8KUPXLg5r"
      },
      "source": [
        "Pada tahap ini, data preprocessing adalah langkah penting untuk memastikan kualitas data sebelum digunakan dalam model machine learning.\n",
        "\n",
        "Jika Anda menggunakan data teks, data mentah sering kali mengandung nilai kosong, duplikasi, atau rentang nilai yang tidak konsisten, yang dapat memengaruhi kinerja model. Oleh karena itu, proses ini bertujuan untuk membersihkan dan mempersiapkan data agar analisis berjalan optimal.\n",
        "\n",
        "Berikut adalah tahapan-tahapan yang bisa dilakukan, tetapi **tidak terbatas** pada:\n",
        "1. Menghapus atau Menangani Data Kosong (Missing Values)\n",
        "2. Menghapus Data Duplikat\n",
        "3. Normalisasi atau Standarisasi Fitur\n",
        "4. Deteksi dan Penanganan Outlier\n",
        "5. Encoding Data Kategorikal\n",
        "6. Binning (Pengelompokan Data)\n",
        "\n",
        "Cukup sesuaikan dengan karakteristik data yang kamu gunakan yah. Khususnya ketika kami menggunakan data tidak terstruktur."
      ]
    },
    {
      "cell_type": "markdown",
      "metadata": {
        "id": "Og8pGV0-iDLz"
      },
      "source": [
        "## 1. Menghapus atau Menangani Data Kosong (Missing Values)"
      ]
    },
    {
      "cell_type": "code",
      "execution_count": 10,
      "metadata": {},
      "outputs": [],
      "source": [
        "# Tidak ada data yang kosong sesuai pengecekan "
      ]
    },
    {
      "cell_type": "markdown",
      "metadata": {},
      "source": [
        "## 2. Menghapus Data Duplikat"
      ]
    },
    {
      "cell_type": "code",
      "execution_count": 11,
      "metadata": {},
      "outputs": [
        {
          "name": "stdout",
          "output_type": "stream",
          "text": [
            "Jumlah Duplikasi: 0\n",
            "Shape Setelah Bersih: (918, 12)\n"
          ]
        }
      ],
      "source": [
        "# Duplicate Check\n",
        "duplicates = hr.duplicated().sum()\n",
        "print(f\"Jumlah Duplikasi: {duplicates}\")\n",
        "\n",
        "# Drop Duplikasi jika ada\n",
        "if duplicates > 0:\n",
        "    hr = hr.drop_duplicates()\n",
        "\n",
        "# Cek kembali\n",
        "print(f\"Shape Setelah Bersih: {hr.shape}\")"
      ]
    },
    {
      "cell_type": "markdown",
      "metadata": {},
      "source": [
        "## 3. Pemisahan Features dan Target & Identifikasi kolom numerik dan kategorikal"
      ]
    },
    {
      "cell_type": "code",
      "execution_count": 12,
      "metadata": {},
      "outputs": [],
      "source": [
        "X = hr.drop('HeartDisease', axis=1)\n",
        "y = hr['HeartDisease']"
      ]
    },
    {
      "cell_type": "code",
      "execution_count": 13,
      "metadata": {},
      "outputs": [
        {
          "name": "stdout",
          "output_type": "stream",
          "text": [
            "Fitur Numerik: ['Age', 'RestingBP', 'Cholesterol', 'FastingBS', 'MaxHR', 'Oldpeak']\n",
            "Fitur Kategorikal: ['Sex', 'ChestPainType', 'RestingECG', 'ExerciseAngina', 'ST_Slope']\n"
          ]
        }
      ],
      "source": [
        "num_cols = X.select_dtypes(include=['int64', 'float64']).columns.tolist()\n",
        "cat_cols = X.select_dtypes(include=['object']).columns.tolist()\n",
        "\n",
        "print(\"Fitur Numerik:\", num_cols)\n",
        "print(\"Fitur Kategorikal:\", cat_cols)"
      ]
    },
    {
      "cell_type": "markdown",
      "metadata": {},
      "source": [
        "## 5. Membuat Pipeline"
      ]
    },
    {
      "cell_type": "code",
      "execution_count": 14,
      "metadata": {},
      "outputs": [],
      "source": [
        "# Numeric Pipeline\n",
        "numeric_pipeline = Pipeline(steps=[\n",
        "    ('imputer', SimpleImputer(strategy='mean')),\n",
        "    ('scaler', StandardScaler())\n",
        "])\n",
        "\n",
        "# Categorical Pipeline\n",
        "categorical_pipeline = Pipeline(steps=[\n",
        "    ('imputer', SimpleImputer(strategy='most_frequent')),\n",
        "    ('encoder', OneHotEncoder(handle_unknown='ignore'))\n",
        "])\n",
        "\n",
        "# Full Preprocessing Pipeline\n",
        "prep = ColumnTransformer(transformers=[\n",
        "    ('num', numeric_pipeline, num_cols),\n",
        "    ('cat', categorical_pipeline, cat_cols)\n",
        "])"
      ]
    },
    {
      "cell_type": "code",
      "execution_count": 15,
      "metadata": {},
      "outputs": [],
      "source": [
        "# Atau bisa juga dengan kode:\n",
        "preprocessor = ColumnTransformer(\n",
        "    transformers=[\n",
        "        ('num', StandardScaler(), num_cols),\n",
        "        ('cat', OneHotEncoder(handle_unknown='ignore'), num_cols)\n",
        "    ])"
      ]
    },
    {
      "cell_type": "markdown",
      "metadata": {},
      "source": [
        "## 6. Splitting Data"
      ]
    },
    {
      "cell_type": "code",
      "execution_count": 16,
      "metadata": {},
      "outputs": [],
      "source": [
        "# Transform the Data\n",
        "X_processed = prep.fit_transform(X)\n",
        "\n",
        "from sklearn.model_selection import train_test_split\n",
        "X_train, X_test, y_train, y_test = train_test_split(X_processed, y, test_size=0.2, random_state=42)"
      ]
    },
    {
      "cell_type": "markdown",
      "metadata": {},
      "source": [
        "## 7. Save the processed datasets"
      ]
    },
    {
      "cell_type": "code",
      "execution_count": 17,
      "metadata": {},
      "outputs": [
        {
          "name": "stdout",
          "output_type": "stream",
          "text": [
            "Preprocessing otomatis selesai dan data berhasil disimpan.\n"
          ]
        }
      ],
      "source": [
        "heart_preprocessing = \"heart_preprocessing\"\n",
        "\n",
        "os.makedirs(heart_preprocessing, exist_ok=True)\n",
        "np.save(os.path.join(heart_preprocessing, 'X_train.npy'), X_train)\n",
        "np.save(os.path.join(heart_preprocessing, 'X_test.npy'), X_test)\n",
        "np.save(os.path.join(heart_preprocessing, 'y_train.npy'), y_train)\n",
        "np.save(os.path.join(heart_preprocessing, 'y_test.npy'), y_test)\n",
        "\n",
        "# Save the preprocessing pipeline\n",
        "joblib.dump(prep, os.path.join(heart_preprocessing, 'preprocessing_pipeline.pkl'))\n",
        "\n",
        "print(\"Preprocessing otomatis selesai dan data berhasil disimpan.\")"
      ]
    }
  ],
  "metadata": {
    "colab": {
      "provenance": []
    },
    "kernelspec": {
      "display_name": "py312",
      "language": "python",
      "name": "python3"
    },
    "language_info": {
      "codemirror_mode": {
        "name": "ipython",
        "version": 3
      },
      "file_extension": ".py",
      "mimetype": "text/x-python",
      "name": "python",
      "nbconvert_exporter": "python",
      "pygments_lexer": "ipython3",
      "version": "3.12.9"
    }
  },
  "nbformat": 4,
  "nbformat_minor": 0
}
